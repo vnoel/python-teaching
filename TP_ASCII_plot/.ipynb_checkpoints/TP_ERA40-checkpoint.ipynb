{
 "metadata": {
  "name": ""
 },
 "nbformat": 3,
 "nbformat_minor": 0,
 "worksheets": [
  {
   "cells": [
    {
     "cell_type": "heading",
     "level": 1,
     "metadata": {},
     "source": [
      "TP ERA 40"
     ]
    },
    {
     "cell_type": "markdown",
     "metadata": {},
     "source": [
      "V. Noel LMD/CNRS 2013\n",
      "\n",
      "Ce notebook ipython presente le code python permettant de lire et d'afficher les altitudes de nuages provenant du fichier lidar SIRTA.\n",
      "\n",
      "Il vient en complement/corrig\u00e9 du 3eme TP de la journ\u00e9e Python IPSL du 14 octobre 2013. L'enonce complet de ce TP est disponible ici :\n",
      "\n",
      "* http://admweb.lmd.polytechnique.fr/~noel/JPython2013/tp_era40.pdf\n",
      "\n",
      "Les fichiers ERA40 utilises dans le TP (80MB) sont telechargeables dans ce dossier :\n",
      "\n",
      "* http://admweb.lmd.polytechnique.fr/~noel/JPython2013/ERA40\n",
      "\n",
      "Ces fichiers netCDF contiennent des cartes mensuelles ERA40 de temperature a l'echelle globale pour la periode 1970-2001."
     ]
    },
    {
     "cell_type": "markdown",
     "metadata": {},
     "source": [
      "## 2. Facile : chargement et affichage des donnees\n",
      "\n",
      "* Lancez ipython -pylab\n",
      "* Obtenez la temperature moyenne globale pour 2000\n",
      "* Affichez-la sous forme de carte.\n"
     ]
    },
    {
     "cell_type": "code",
     "collapsed": false,
     "input": [
      "import netCDF4\n",
      "\n",
      "# lecture des donnees\n",
      "nc = netCDF4.Dataset('t2.2002.asm.nc')\n",
      "lat = nc.variables['lat'][:]\n",
      "lon = nc.variables['lon'][:]\n",
      "t2 = nc.variables['t2'][:]\n",
      "\n",
      "whos\n",
      "print t2.shape\n",
      "\n",
      "t2 = t2.mean(axis=0)"
     ],
     "language": "python",
     "metadata": {},
     "outputs": [
      {
       "ename": "RuntimeError",
       "evalue": "No such file or directory",
       "output_type": "pyerr",
       "traceback": [
        "\u001b[0;31m---------------------------------------------------------------------------\u001b[0m\n\u001b[0;31mRuntimeError\u001b[0m                              Traceback (most recent call last)",
        "\u001b[0;32m<ipython-input-1-67f5ad6504b3>\u001b[0m in \u001b[0;36m<module>\u001b[0;34m()\u001b[0m\n\u001b[1;32m      2\u001b[0m \u001b[0;34m\u001b[0m\u001b[0m\n\u001b[1;32m      3\u001b[0m \u001b[0;31m# lecture des donnees\u001b[0m\u001b[0;34m\u001b[0m\u001b[0;34m\u001b[0m\u001b[0m\n\u001b[0;32m----> 4\u001b[0;31m \u001b[0mnc\u001b[0m \u001b[0;34m=\u001b[0m \u001b[0mnetCDF4\u001b[0m\u001b[0;34m.\u001b[0m\u001b[0mDataset\u001b[0m\u001b[0;34m(\u001b[0m\u001b[0;34m't2.2002.asm.nc'\u001b[0m\u001b[0;34m)\u001b[0m\u001b[0;34m\u001b[0m\u001b[0m\n\u001b[0m\u001b[1;32m      5\u001b[0m \u001b[0mlat\u001b[0m \u001b[0;34m=\u001b[0m \u001b[0mnc\u001b[0m\u001b[0;34m.\u001b[0m\u001b[0mvariables\u001b[0m\u001b[0;34m[\u001b[0m\u001b[0;34m'lat'\u001b[0m\u001b[0;34m]\u001b[0m\u001b[0;34m[\u001b[0m\u001b[0;34m:\u001b[0m\u001b[0;34m]\u001b[0m\u001b[0;34m\u001b[0m\u001b[0m\n\u001b[1;32m      6\u001b[0m \u001b[0mlon\u001b[0m \u001b[0;34m=\u001b[0m \u001b[0mnc\u001b[0m\u001b[0;34m.\u001b[0m\u001b[0mvariables\u001b[0m\u001b[0;34m[\u001b[0m\u001b[0;34m'lon'\u001b[0m\u001b[0;34m]\u001b[0m\u001b[0;34m[\u001b[0m\u001b[0;34m:\u001b[0m\u001b[0;34m]\u001b[0m\u001b[0;34m\u001b[0m\u001b[0m\n",
        "\u001b[0;32m/Users/vnoel/Library/Enthought/Canopy_64bit/User/lib/python2.7/site-packages/netCDF4.so\u001b[0m in \u001b[0;36mnetCDF4.Dataset.__init__ (netCDF4.c:15904)\u001b[0;34m()\u001b[0m\n",
        "\u001b[0;31mRuntimeError\u001b[0m: No such file or directory"
       ]
      }
     ],
     "prompt_number": 1
    },
    {
     "cell_type": "code",
     "collapsed": false,
     "input": [],
     "language": "python",
     "metadata": {},
     "outputs": []
    }
   ],
   "metadata": {}
  }
 ]
}